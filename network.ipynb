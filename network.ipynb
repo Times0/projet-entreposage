{
 "cells": [
  {
   "cell_type": "code",
   "execution_count": 1,
   "metadata": {},
   "outputs": [],
   "source": [
    "import polars as pl\n",
    "\n",
    "df1_nul = pl.read_csv(\n",
    "    r\"dataset\\Network datatset\\csv\\attack_1.csv\",\n",
    "    encoding=\"utf-8\",\n",
    "    separator=\",\",\n",
    "    ignore_errors=True,\n",
    "    null_values=[\"N/A\"]\n",
    ")\n",
    "\n",
    "df2_nul = pl.read_csv(\n",
    "    r\"dataset\\Network datatset\\csv\\attack_2.csv\",\n",
    "    encoding=\"utf-8\",\n",
    "    separator=\",\",\n",
    "    ignore_errors=True,\n",
    "    null_values=[\"N/A\"]\n",
    ")\n",
    "\n",
    "df3_nul = pl.read_csv(\n",
    "    r\"dataset\\Network datatset\\csv\\attack_3.csv\",\n",
    "    encoding=\"utf-8\",\n",
    "    separator=\",\",\n",
    "    ignore_errors=True,\n",
    "    null_values=[\"N/A\"]\n",
    ")\n",
    "\n",
    "df4_nul = pl.read_csv(\n",
    "    r\"dataset\\Network datatset\\csv\\normal.csv\",\n",
    "    encoding=\"utf-8\",\n",
    "    separator=\",\",\n",
    "    ignore_errors=True,\n",
    "    null_values=[\"N/A\"]\n",
    ")"
   ]
  },
  {
   "cell_type": "code",
   "execution_count": 7,
   "metadata": {},
   "outputs": [],
   "source": [
    "# update all columns using by removing leading and trailing spaces\n",
    "df_list = [df1_nul, df2_nul, df3_nul, df4_nul]\n",
    "for i, df in enumerate(df_list):\n",
    "    df_list[i] = df.rename(mapping={col: col.strip() for col in df.columns})\n",
    "df1, df2, df3, df4 = df_list"
   ]
  },
  {
   "cell_type": "code",
   "execution_count": 9,
   "metadata": {},
   "outputs": [],
   "source": [
    "# concat the dataframes vertically\n",
    "df = pl.concat([df1, df2, df3, df4], how=\"vertical\")\n",
    "df.write_csv(\"dataset/Network datatset/csv/network_dataset.csv\")"
   ]
  },
  {
   "cell_type": "code",
   "execution_count": 12,
   "metadata": {},
   "outputs": [
    {
     "data": {
      "text/plain": [
       "(24306714, 16)"
      ]
     },
     "execution_count": 12,
     "metadata": {},
     "output_type": "execute_result"
    }
   ],
   "source": [
    "df.shape"
   ]
  },
  {
   "cell_type": "code",
   "execution_count": null,
   "metadata": {},
   "outputs": [],
   "source": [
    "df = pl.read_csv(\"dataset/Network datatset/csv/network_dataset.csv\")\n",
    "df.head()\n"
   ]
  }
 ],
 "metadata": {
  "kernelspec": {
   "display_name": ".venv",
   "language": "python",
   "name": "python3"
  },
  "language_info": {
   "codemirror_mode": {
    "name": "ipython",
    "version": 3
   },
   "file_extension": ".py",
   "mimetype": "text/x-python",
   "name": "python",
   "nbconvert_exporter": "python",
   "pygments_lexer": "ipython3",
   "version": "3.11.8"
  }
 },
 "nbformat": 4,
 "nbformat_minor": 2
}
