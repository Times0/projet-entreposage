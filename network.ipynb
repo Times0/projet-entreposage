{
 "cells": [
  {
   "cell_type": "markdown",
   "metadata": {},
   "source": [
    "# Run from here if you don't have the network_dataset.csv file"
   ]
  },
  {
   "cell_type": "code",
   "execution_count": 1,
   "metadata": {},
   "outputs": [],
   "source": [
    "import polars as pl\n",
    "\n",
    "df1_nul = pl.read_csv(\n",
    "    r\"dataset\\Network datatset\\csv\\attack_1.csv\",\n",
    "    encoding=\"utf-8\",\n",
    "    separator=\",\",\n",
    "    ignore_errors=True,\n",
    "    null_values=[\"N/A\"]\n",
    ")\n",
    "\n",
    "df2_nul = pl.read_csv(\n",
    "    r\"dataset\\Network datatset\\csv\\attack_2.csv\",\n",
    "    encoding=\"utf-8\",\n",
    "    separator=\",\",\n",
    "    ignore_errors=True,\n",
    "    null_values=[\"N/A\"]\n",
    ")\n",
    "\n",
    "df3_nul = pl.read_csv(\n",
    "    r\"dataset\\Network datatset\\csv\\attack_3.csv\",\n",
    "    encoding=\"utf-8\",\n",
    "    separator=\",\",\n",
    "    ignore_errors=True,\n",
    "    null_values=[\"N/A\"]\n",
    ")\n",
    "\n",
    "df4_nul = pl.read_csv(\n",
    "    r\"dataset\\Network datatset\\csv\\attack_4.csv\",\n",
    "    encoding=\"utf-8\",\n",
    "    separator=\",\",\n",
    "    ignore_errors=True,\n",
    "    null_values=[\"N/A\"]\n",
    ")\n",
    "\n",
    "df5_nul = pl.read_csv(\n",
    "    r\"dataset\\Network datatset\\csv\\normal.csv\",\n",
    "    encoding=\"utf-8\",\n",
    "    separator=\",\",\n",
    "    ignore_errors=True,\n",
    "    null_values=[\"N/A\"]\n",
    ")"
   ]
  },
  {
   "cell_type": "code",
   "execution_count": 2,
   "metadata": {},
   "outputs": [],
   "source": [
    "# update all columns using by removing leading and trailing spaces\n",
    "df_list = [df1_nul, df2_nul, df3_nul, df4_nul, df5_nul]\n",
    "for i, df in enumerate(df_list):\n",
    "    df_list[i] = df.rename(mapping={col: col.strip() for col in df.columns})\n",
    "df1, df2, df3, df4, df5 = df_list"
   ]
  },
  {
   "cell_type": "code",
   "execution_count": 3,
   "metadata": {},
   "outputs": [
    {
     "name": "stdout",
     "output_type": "stream",
     "text": [
      "['Time', 'mac_s', 'mac_d', 'ip_s', 'ip_d', 'sport', 'dport', 'proto', 'flags', 'size', 'modbus_fn', 'n_pkt_src', 'n_pkt_dst', 'modbus_response', 'label_n', 'label']\n",
      "['Time', 'mac_s', 'mac_d', 'ip_s', 'ip_d', 'sport', 'dport', 'proto', 'flags', 'size', 'modbus_fn', 'modbus_response', 'n_pkt_src', 'n_pkt_dst', 'label_n', 'label']\n"
     ]
    }
   ],
   "source": [
    "print(df1.columns)\n",
    "print(df4.columns)\n",
    "\n",
    "right_order = df1.columns\n",
    "df4 = df4.select(right_order)\n"
   ]
  },
  {
   "cell_type": "code",
   "execution_count": 4,
   "metadata": {},
   "outputs": [],
   "source": [
    "# concat the dataframes vertically\n",
    "df = pl.concat([df1, df2, df3, df4, df5], how=\"vertical\")\n",
    "df.write_csv(\"dataset/Network datatset/csv/network_dataset.csv\")"
   ]
  },
  {
   "cell_type": "markdown",
   "metadata": {},
   "source": [
    "# Run from here if you already have the network_dataset.csv file"
   ]
  },
  {
   "cell_type": "code",
   "execution_count": 2,
   "metadata": {},
   "outputs": [
    {
     "data": {
      "text/html": [
       "<div><style>\n",
       ".dataframe > thead > tr,\n",
       ".dataframe > tbody > tr {\n",
       "  text-align: right;\n",
       "  white-space: pre-wrap;\n",
       "}\n",
       "</style>\n",
       "<small>shape: (5, 16)</small><table border=\"1\" class=\"dataframe\"><thead><tr><th>Time</th><th>mac_s</th><th>mac_d</th><th>ip_s</th><th>ip_d</th><th>sport</th><th>dport</th><th>proto</th><th>flags</th><th>size</th><th>modbus_fn</th><th>n_pkt_src</th><th>n_pkt_dst</th><th>modbus_response</th><th>label_n</th><th>label</th></tr><tr><td>str</td><td>str</td><td>str</td><td>str</td><td>str</td><td>i64</td><td>i64</td><td>str</td><td>i64</td><td>i64</td><td>str</td><td>i64</td><td>i64</td><td>str</td><td>i64</td><td>str</td></tr></thead><tbody><tr><td>&quot;2021-04-09&nbsp;18:23:28.385003&quot;</td><td>&quot;74:46:a0:bd:a7:1b&quot;</td><td>&quot;0a:fe:ec:47:74:fb&quot;</td><td>&quot;84.3.251.20&quot;</td><td>&quot;84.3.251.102&quot;</td><td>56667</td><td>502</td><td>&quot;Modbus&quot;</td><td>11000</td><td>66</td><td>&quot;Read&nbsp;Coils&nbsp;Request&quot;</td><td>0</td><td>0</td><td>null</td><td>0</td><td>&quot;normal&quot;</td></tr><tr><td>&quot;2021-04-09&nbsp;18:23:28.385005&quot;</td><td>&quot;74:46:a0:bd:a7:1b&quot;</td><td>&quot;e6:3f:ac:c9:a8:8c&quot;</td><td>&quot;84.3.251.20&quot;</td><td>&quot;84.3.251.101&quot;</td><td>56666</td><td>502</td><td>&quot;Modbus&quot;</td><td>11000</td><td>66</td><td>&quot;Read&nbsp;Coils&nbsp;Request&quot;</td><td>1</td><td>0</td><td>null</td><td>0</td><td>&quot;normal&quot;</td></tr><tr><td>&quot;2021-04-09&nbsp;18:23:28.385006&quot;</td><td>&quot;74:46:a0:bd:a7:1b&quot;</td><td>&quot;fa:00:bc:90:d7:fa&quot;</td><td>&quot;84.3.251.20&quot;</td><td>&quot;84.3.251.103&quot;</td><td>56668</td><td>502</td><td>&quot;Modbus&quot;</td><td>11000</td><td>66</td><td>&quot;Read&nbsp;Coils&nbsp;Request&quot;</td><td>2</td><td>0</td><td>null</td><td>0</td><td>&quot;normal&quot;</td></tr><tr><td>&quot;2021-04-09&nbsp;18:23:28.385484&quot;</td><td>&quot;0a:fe:ec:47:74:fb&quot;</td><td>&quot;74:46:a0:bd:a7:1b&quot;</td><td>&quot;84.3.251.102&quot;</td><td>&quot;84.3.251.20&quot;</td><td>502</td><td>56667</td><td>&quot;Modbus&quot;</td><td>11000</td><td>64</td><td>&quot;Read&nbsp;Coils&nbsp;Response&quot;</td><td>0</td><td>0</td><td>&quot;[0]&quot;</td><td>0</td><td>&quot;normal&quot;</td></tr><tr><td>&quot;2021-04-09&nbsp;18:23:28.385486&quot;</td><td>&quot;fa:00:bc:90:d7:fa&quot;</td><td>&quot;74:46:a0:bd:a7:1b&quot;</td><td>&quot;84.3.251.103&quot;</td><td>&quot;84.3.251.20&quot;</td><td>502</td><td>56668</td><td>&quot;Modbus&quot;</td><td>11000</td><td>64</td><td>&quot;Read&nbsp;Coils&nbsp;Response&quot;</td><td>0</td><td>1</td><td>&quot;[0]&quot;</td><td>0</td><td>&quot;normal&quot;</td></tr></tbody></table></div>"
      ],
      "text/plain": [
       "shape: (5, 16)\n",
       "┌────────────┬────────────┬────────────┬────────────┬───┬───────────┬───────────┬─────────┬────────┐\n",
       "│ Time       ┆ mac_s      ┆ mac_d      ┆ ip_s       ┆ … ┆ n_pkt_dst ┆ modbus_re ┆ label_n ┆ label  │\n",
       "│ ---        ┆ ---        ┆ ---        ┆ ---        ┆   ┆ ---       ┆ sponse    ┆ ---     ┆ ---    │\n",
       "│ str        ┆ str        ┆ str        ┆ str        ┆   ┆ i64       ┆ ---       ┆ i64     ┆ str    │\n",
       "│            ┆            ┆            ┆            ┆   ┆           ┆ str       ┆         ┆        │\n",
       "╞════════════╪════════════╪════════════╪════════════╪═══╪═══════════╪═══════════╪═════════╪════════╡\n",
       "│ 2021-04-09 ┆ 74:46:a0:b ┆ 0a:fe:ec:4 ┆ 84.3.251.2 ┆ … ┆ 0         ┆ null      ┆ 0       ┆ normal │\n",
       "│ 18:23:28.3 ┆ d:a7:1b    ┆ 7:74:fb    ┆ 0          ┆   ┆           ┆           ┆         ┆        │\n",
       "│ 85003      ┆            ┆            ┆            ┆   ┆           ┆           ┆         ┆        │\n",
       "│ 2021-04-09 ┆ 74:46:a0:b ┆ e6:3f:ac:c ┆ 84.3.251.2 ┆ … ┆ 0         ┆ null      ┆ 0       ┆ normal │\n",
       "│ 18:23:28.3 ┆ d:a7:1b    ┆ 9:a8:8c    ┆ 0          ┆   ┆           ┆           ┆         ┆        │\n",
       "│ 85005      ┆            ┆            ┆            ┆   ┆           ┆           ┆         ┆        │\n",
       "│ 2021-04-09 ┆ 74:46:a0:b ┆ fa:00:bc:9 ┆ 84.3.251.2 ┆ … ┆ 0         ┆ null      ┆ 0       ┆ normal │\n",
       "│ 18:23:28.3 ┆ d:a7:1b    ┆ 0:d7:fa    ┆ 0          ┆   ┆           ┆           ┆         ┆        │\n",
       "│ 85006      ┆            ┆            ┆            ┆   ┆           ┆           ┆         ┆        │\n",
       "│ 2021-04-09 ┆ 0a:fe:ec:4 ┆ 74:46:a0:b ┆ 84.3.251.1 ┆ … ┆ 0         ┆ [0]       ┆ 0       ┆ normal │\n",
       "│ 18:23:28.3 ┆ 7:74:fb    ┆ d:a7:1b    ┆ 02         ┆   ┆           ┆           ┆         ┆        │\n",
       "│ 85484      ┆            ┆            ┆            ┆   ┆           ┆           ┆         ┆        │\n",
       "│ 2021-04-09 ┆ fa:00:bc:9 ┆ 74:46:a0:b ┆ 84.3.251.1 ┆ … ┆ 1         ┆ [0]       ┆ 0       ┆ normal │\n",
       "│ 18:23:28.3 ┆ 0:d7:fa    ┆ d:a7:1b    ┆ 03         ┆   ┆           ┆           ┆         ┆        │\n",
       "│ 85486      ┆            ┆            ┆            ┆   ┆           ┆           ┆         ┆        │\n",
       "└────────────┴────────────┴────────────┴────────────┴───┴───────────┴───────────┴─────────┴────────┘"
      ]
     },
     "execution_count": 2,
     "metadata": {},
     "output_type": "execute_result"
    }
   ],
   "source": [
    "import polars as pl\n",
    "df = pl.read_csv(\"dataset/Network datatset/csv/network_dataset.csv\")\n",
    "df.head()\n"
   ]
  },
  {
   "cell_type": "code",
   "execution_count": 3,
   "metadata": {},
   "outputs": [
    {
     "data": {
      "text/plain": [
       "(29829204, 16)"
      ]
     },
     "execution_count": 3,
     "metadata": {},
     "output_type": "execute_result"
    }
   ],
   "source": [
    "df.shape"
   ]
  }
 ],
 "metadata": {
  "kernelspec": {
   "display_name": ".venv",
   "language": "python",
   "name": "python3"
  },
  "language_info": {
   "codemirror_mode": {
    "name": "ipython",
    "version": 3
   },
   "file_extension": ".py",
   "mimetype": "text/x-python",
   "name": "python",
   "nbconvert_exporter": "python",
   "pygments_lexer": "ipython3",
   "version": "3.11.8"
  }
 },
 "nbformat": 4,
 "nbformat_minor": 2
}
